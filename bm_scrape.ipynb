{
 "cells": [
  {
   "cell_type": "code",
   "execution_count": 23,
   "metadata": {},
   "outputs": [
    {
     "name": "stderr",
     "output_type": "stream",
     "text": [
      "/var/folders/dy/ld27trl10w9d_gn8dgm6_57m0000gn/T/ipykernel_41532/2379999845.py:8: DeprecationWarning: executable_path has been deprecated, please pass in a Service object\n",
      "  driver = webdriver.Chrome('/Users/cbrou/Downloads/chromedriver')\n"
     ]
    },
    {
     "ename": "KeyboardInterrupt",
     "evalue": "",
     "output_type": "error",
     "traceback": [
      "\u001b[0;31m---------------------------------------------------------------------------\u001b[0m",
      "\u001b[0;31mKeyboardInterrupt\u001b[0m                         Traceback (most recent call last)",
      "Cell \u001b[0;32mIn [23], line 21\u001b[0m\n\u001b[1;32m     19\u001b[0m     full_doc \u001b[38;5;241m=\u001b[39m full_doc \u001b[38;5;241m+\u001b[39m output\n\u001b[1;32m     20\u001b[0m     start_page \u001b[38;5;241m+\u001b[39m\u001b[38;5;241m=\u001b[39m \u001b[38;5;241m1\u001b[39m\n\u001b[0;32m---> 21\u001b[0m     \u001b[43msleep\u001b[49m\u001b[43m(\u001b[49m\u001b[43mrandom\u001b[49m\u001b[38;5;241;43m.\u001b[39;49m\u001b[43mchoice\u001b[49m\u001b[43m(\u001b[49m\u001b[43msleep_times\u001b[49m\u001b[43m)\u001b[49m\u001b[43m)\u001b[49m\n\u001b[1;32m     22\u001b[0m \u001b[38;5;28;01melse\u001b[39;00m:\n\u001b[1;32m     23\u001b[0m     \u001b[38;5;28;01mbreak\u001b[39;00m\n",
      "\u001b[0;31mKeyboardInterrupt\u001b[0m: "
     ]
    }
   ],
   "source": [
    "from selenium import webdriver\n",
    "from selenium.webdriver.common.keys import Keys\n",
    "from selenium.webdriver.common.by import By\n",
    "\n",
    "from time import sleep\n",
    "import random\n",
    "\n",
    "driver = webdriver.Chrome('/Users/cbrou/Downloads/chromedriver')\n",
    "\n",
    "start_page = 0\n",
    "sleep_times = [2.1, 2.7, 3.2]\n",
    "\n",
    "full_doc = ''\n",
    "\n",
    "while (True):\n",
    "    driver.get('https://www.britishmuseum.org/api/_search?keyword[]=coin&page=' + str(start_page))\n",
    "    output = driver.find_element(By.CSS_SELECTOR, \"pre\").text\n",
    "    if output != '{\\\"error\\\":\\\"Sorry, something went wrong please try your search again.\\\"}':\n",
    "        full_doc = full_doc + output\n",
    "        start_page += 1\n",
    "        sleep(random.choice(sleep_times))\n",
    "    else:\n",
    "        break"
   ]
  },
  {
   "cell_type": "code",
   "execution_count": 20,
   "metadata": {},
   "outputs": [],
   "source": [
    "f= open(\"doc.txt\",\"w+\")\n",
    "f.write(full_doc)\n",
    "f.close()\n"
   ]
  }
 ],
 "metadata": {
  "kernelspec": {
   "display_name": "Python 3.10.8 ('hist5705_proj')",
   "language": "python",
   "name": "python3"
  },
  "language_info": {
   "codemirror_mode": {
    "name": "ipython",
    "version": 3
   },
   "file_extension": ".py",
   "mimetype": "text/x-python",
   "name": "python",
   "nbconvert_exporter": "python",
   "pygments_lexer": "ipython3",
   "version": "3.10.8"
  },
  "orig_nbformat": 4,
  "vscode": {
   "interpreter": {
    "hash": "bcd7a81f6b78e14bd81db77dcf0999d28996c25b78bbef59c121c9a4b8e10634"
   }
  }
 },
 "nbformat": 4,
 "nbformat_minor": 2
}
